{
 "cells": [
  {
   "cell_type": "markdown",
   "id": "8586fca3-0b67-430b-ad06-92218bb2b454",
   "metadata": {},
   "source": [
    "### Part 1: Data Mining"
   ]
  },
  {
   "cell_type": "markdown",
   "id": "697b5fd0-1cb0-4bc6-ab17-27f465b414a2",
   "metadata": {},
   "source": [
    "#### The objectives of this project are:\n",
    "- To mine data related to top audiobooks from LibriVox released between 2018-2022, with the help of Beautiful Soup and Whisper speech recognition model.\n",
    "- To perform Named Entity Recognition (NER) on the text extracted using Spacy.\n",
    "- To train a model for predicting views on English Language audiobooks.\n",
    "\n",
    "\n",
    "#### This Project is divided into three parts:\n",
    "1. Data Mining (ipynb file: 1.MinePlayers_Mining)\n",
    "Input - Librivox archive URL\n",
    "Output - librivox_df (csv file attached)\n",
    "\n",
    "2. Named Entity Recognition (ipynb file: 2.MinePlayers_NER)\n",
    "Input - librivox_df (csv file attached) from Part 1.\n",
    "Output - en_books_df (csv file attached)\n",
    "##### Other attached:\n",
    "Excel file of names sorted based on gender - 'Sorted_names.xlsx'\n",
    "\n",
    "3. Data Preprocessing and Predictive Analysis (ipynb file: 3.MinePlayers_Pred)\n",
    "Input - en_books_df (csv file attached) from Part 2.\n",
    "Final result - Trained Linear Regression Prediction Model\n",
    "\n"
   ]
  },
  {
   "cell_type": "markdown",
   "id": "b906305e-cff1-45de-8bd4-67110f8d25e2",
   "metadata": {},
   "source": [
    "### Part 1: Data Mining "
   ]
  },
  {
   "cell_type": "code",
   "execution_count": 176,
   "id": "2ac9b081-770e-47bf-a50d-9cb145bb821c",
   "metadata": {},
   "outputs": [],
   "source": [
    "import requests\n",
    "from bs4 import BeautifulSoup\n",
    "import whisper\n",
    "import pandas as pd\n",
    "import re\n",
    "import datetime"
   ]
  },
  {
   "cell_type": "markdown",
   "id": "3135e7f1-b119-47c1-840f-4c5b9f4c52f2",
   "metadata": {},
   "source": [
    "Step 1. Extraction of links from LibriVox Archive Page using requests and BeautifulSoup."
   ]
  },
  {
   "cell_type": "code",
   "execution_count": 144,
   "id": "c02bd718-2e77-4776-af15-15d268be0b3b",
   "metadata": {},
   "outputs": [],
   "source": [
    "def getAllLinks(url):\n",
    "    # archives\n",
    "    archives = requests.get(url)\n",
    "    archive_soup = BeautifulSoup(archives.content, 'html.parser')\n",
    "    item = archive_soup.find_all('div', {'class':'item-ttl'})\n",
    "    \n",
    "    # get links for book_soup\n",
    "    all_links = []\n",
    "    for i in item:\n",
    "        a_link = 'https://archive.org{}'.format((i.find('a')['href']))\n",
    "        all_links.append(a_link)\n",
    "    return all_links"
   ]
  },
  {
   "cell_type": "markdown",
   "id": "26985a6b-dfac-4019-b9d9-c0d745034558",
   "metadata": {},
   "source": [
    "Step 2. Parsing links from Step1 to extract 'Title', 'Author', 'Views', 'Favorites','Date_uploaded' columns. "
   ]
  },
  {
   "cell_type": "code",
   "execution_count": 91,
   "id": "1df568b1-8531-45c4-aefe-75ab05bdfb30",
   "metadata": {},
   "outputs": [],
   "source": [
    "def booksDF(L):\n",
    "    \n",
    "    # book_soup\n",
    "    books_list = []\n",
    "    all_reviews = []\n",
    "    for link in L:\n",
    "        book = requests.get(link)\n",
    "        book_soup = BeautifulSoup(book.content, 'html.parser')\n",
    "        count = book_soup.find_all('span', {'class':'item-stats-summary__count'})\n",
    "        title = book_soup.find('span', {'class':'breaker-breaker'}).text\n",
    "        author = book_soup.find('a', {'rel':'nofollow'}).text\n",
    "        date = book_soup.find('time', {'itemprop': 'uploadDate'}).text\n",
    "        views = int(count[0].text.replace(',',''))\n",
    "        if len(count) > 1:\n",
    "            fav = count[1].text\n",
    "        else:\n",
    "            fav = ''\n",
    "    \n",
    "        books_list.append([title,author,views,fav,date])\n",
    "        \n",
    "        reviews = book_soup.find_all('div', {'class': 'aReview'})\n",
    "        review_list = []\n",
    "        for i in reviews:\n",
    "            rev = i.find('div', {'class': 'breaker-breaker'}).text\n",
    "            review_list.append(rev)\n",
    "        all_reviews.append(review_list)\n",
    "    \n",
    "    # build books Df\n",
    "    books_df = pd.DataFrame(books_list,\n",
    "                            columns = ['Title', 'Author', 'Views', 'Favorites','Date_uploaded'])\n",
    "    books_df['Reviews'] = all_reviews\n",
    "    num_rev = books_df['Reviews'].apply(len)\n",
    "    books_df['Reviews_n'] = num_rev\n",
    "    \n",
    "    return books_df"
   ]
  },
  {
   "cell_type": "markdown",
   "id": "2a7d4829-25d1-497a-8ac9-7099dbc88603",
   "metadata": {},
   "source": [
    "Note: Filtered the books list by year and extracted URL. From here, books dataframe for 5 years was obtained."
   ]
  },
  {
   "cell_type": "code",
   "execution_count": 197,
   "id": "5215dac0-b9a1-4cff-a9f5-3938a803cf91",
   "metadata": {},
   "outputs": [],
   "source": [
    "url_18 = 'https://archive.org/details/librivoxaudio?and%5B%5D=subject%3A%22audiobooks%22&and%5B%5D=mediatype%3A%22audio%22&and%5B%5D=year%3A%222018%22&sort=-week'\n",
    "links18 = getAllLinks(url_18)"
   ]
  },
  {
   "cell_type": "code",
   "execution_count": 173,
   "id": "4c6ad242-f972-43a7-80d7-5dda67714b14",
   "metadata": {
    "tags": []
   },
   "outputs": [],
   "source": [
    "df_2018 = booksDF(links18)"
   ]
  },
  {
   "cell_type": "code",
   "execution_count": 203,
   "id": "8ecd8fe8-3c3a-481e-bdbc-c6eba1b45bdd",
   "metadata": {},
   "outputs": [],
   "source": [
    "url_19 = 'https://archive.org/details/librivoxaudio?sort=-week&and[]=subject%3A%22audiobooks%22&and[]=mediatype%3A%22audio%22&and[]=year%3A%222019%22'\n",
    "links19 = getAllLinks(url_19)"
   ]
  },
  {
   "cell_type": "code",
   "execution_count": 174,
   "id": "94df7af1-37fd-43a6-bb56-c6489829f879",
   "metadata": {
    "tags": []
   },
   "outputs": [],
   "source": [
    "df_2019 = booksDF(links19)"
   ]
  },
  {
   "cell_type": "code",
   "execution_count": 215,
   "id": "987e6a8d-4ee4-46bc-a928-2ebd3af4cf76",
   "metadata": {
    "tags": []
   },
   "outputs": [],
   "source": [
    "url_20 = 'https://archive.org/details/librivoxaudio?sort=-week&and[]=subject%3A%22audiobooks%22&and[]=mediatype%3A%22audio%22&and[]=year%3A%222020%22'\n",
    "links20 = getAllLinks(url_20)"
   ]
  },
  {
   "cell_type": "code",
   "execution_count": 171,
   "id": "2721a292-1d1d-422d-8a46-a6181f7a6e35",
   "metadata": {
    "tags": []
   },
   "outputs": [],
   "source": [
    "df_2020 = booksDF(links20)"
   ]
  },
  {
   "cell_type": "code",
   "execution_count": 148,
   "id": "08c63780-4b34-48f4-bfe0-ee827b0ce1e0",
   "metadata": {
    "tags": []
   },
   "outputs": [],
   "source": [
    "url_21 = 'https://archive.org/details/librivoxaudio?sort=-week&and[]=subject%3A%22audiobooks%22&and[]=mediatype%3A%22audio%22&and[]=year%3A%222021%22'\n",
    "links21 = getAllLinks(url_21)"
   ]
  },
  {
   "cell_type": "code",
   "execution_count": 172,
   "id": "e47afb43-9ed5-47c7-a10b-9f901f03e694",
   "metadata": {
    "tags": []
   },
   "outputs": [],
   "source": [
    "df_2021 = booksDF(links21)"
   ]
  },
  {
   "cell_type": "code",
   "execution_count": 76,
   "id": "2a28d40a-f3f2-417c-a3de-038b2ccfa32a",
   "metadata": {
    "tags": []
   },
   "outputs": [],
   "source": [
    "url_22 = 'https://archive.org/details/librivoxaudio?sort=-week&and[]=subject%3A%22audiobooks%22&and[]=mediatype%3A%22audio%22&and[]=year%3A%222022%22'\n",
    "links22 = getAllLinks(url_22)"
   ]
  },
  {
   "cell_type": "code",
   "execution_count": 92,
   "id": "06a1a0d9-64fa-4e6d-83aa-9e7bd92d812a",
   "metadata": {
    "tags": []
   },
   "outputs": [],
   "source": [
    "df_2022 = booksDF(links22)"
   ]
  },
  {
   "cell_type": "markdown",
   "id": "8473bec5-f0b1-41cf-958f-a72beea2a636",
   "metadata": {},
   "source": [
    "Step3. Extracted Audiobook links for chapter 1 and used Whisper's tiny model to convert speech to text."
   ]
  },
  {
   "cell_type": "code",
   "execution_count": 111,
   "id": "3d8be01f-c65b-46ba-a65f-7dfe09a6a0f5",
   "metadata": {},
   "outputs": [],
   "source": [
    "model = whisper.load_model(\"tiny\")"
   ]
  },
  {
   "cell_type": "code",
   "execution_count": 56,
   "id": "51fbdea6-a429-494e-b692-8f391b429324",
   "metadata": {},
   "outputs": [],
   "source": [
    "import urllib3\n",
    "urllib3.disable_warnings(urllib3.exceptions.InsecureRequestWarning)"
   ]
  },
  {
   "cell_type": "code",
   "execution_count": 388,
   "id": "1f4ccadb-2f65-46ca-8d00-25aa5a88f3e8",
   "metadata": {},
   "outputs": [],
   "source": [
    "def getAudio(L):\n",
    "    \n",
    "    # book_soup\n",
    "    catalog_links = []\n",
    "    for link in L:\n",
    "        book = requests.get(link)\n",
    "        book_soup = BeautifulSoup(book.content, 'html.parser')\n",
    "        descript = book_soup.find('div', {'id':'descript'})\n",
    "        book_link = descript.find('a','href' == True, text = re.compile(('LibriVox catalog'),re.IGNORECASE))\n",
    "        # LibriVox catalog page\n",
    "        if book_link.get('href') == '':\n",
    "            catalog_links.append('')\n",
    "        else:\n",
    "            catalog_links.append(book_link.get('href'))         #book_link.get('href'))\n",
    "        \n",
    "    \n",
    "    audio_links = []\n",
    "    for c in catalog_links:\n",
    "        if c == '':\n",
    "            audio_links.append('')\n",
    "        else:\n",
    "            book_req = requests.get(c, verify=False)\n",
    "            catalog_soup = BeautifulSoup(book_req.content,'html.parser')\n",
    "            audio_link = catalog_soup.find('td').find('a')['href']\n",
    "\n",
    "            audio_links.append(audio_link)\n",
    "    return audio_links\n",
    "    "
   ]
  },
  {
   "cell_type": "code",
   "execution_count": 79,
   "id": "ec25961b-544d-485d-af7b-f0206c3eb961",
   "metadata": {
    "tags": []
   },
   "outputs": [],
   "source": [
    "# audio 22\n",
    "Ch1_links = getAudio(links22)"
   ]
  },
  {
   "cell_type": "code",
   "execution_count": 152,
   "id": "5ec3637a-0dcd-495c-ab62-4464ecb5f83a",
   "metadata": {
    "tags": []
   },
   "outputs": [],
   "source": [
    "audio21 = getAudio(links21)"
   ]
  },
  {
   "cell_type": "code",
   "execution_count": 153,
   "id": "8d2daf24-c799-453b-b951-aa0c49df79bf",
   "metadata": {
    "tags": []
   },
   "outputs": [],
   "source": [
    "audio20 = getAudio(links20)"
   ]
  },
  {
   "cell_type": "code",
   "execution_count": 389,
   "id": "2b872df5-102b-4ec3-bb26-90ff11359dd5",
   "metadata": {
    "tags": []
   },
   "outputs": [],
   "source": [
    "audio19 = getAudio(links19)"
   ]
  },
  {
   "cell_type": "code",
   "execution_count": 249,
   "id": "481a8e7f-9b5e-4747-8703-b41fbba5e788",
   "metadata": {},
   "outputs": [],
   "source": [
    "audio18 = getAudio(links18)"
   ]
  },
  {
   "cell_type": "markdown",
   "id": "bbf754f1-da98-4a30-b5c4-f299eb11b971",
   "metadata": {},
   "source": [
    "Note: The below chunk takes upto 2.5 hours per table to run. "
   ]
  },
  {
   "cell_type": "code",
   "execution_count": 136,
   "id": "23d6a02f-1d7e-4088-a757-0ac3486eb72c",
   "metadata": {},
   "outputs": [],
   "source": [
    "# 2022 was used as a practice chunk to determine how much time whisper takes for one table\n",
    "# and that is why it is not inside a function.\n",
    "transcripts = []\n",
    "for l in Ch1_links:\n",
    "    ch = model.transcribe(l, fp16 = False)\n",
    "    transcripts.append(ch['text'][170:])"
   ]
  },
  {
   "cell_type": "code",
   "execution_count": 396,
   "id": "959b2398-ac6c-4d76-80e5-ff28727921f2",
   "metadata": {},
   "outputs": [],
   "source": [
    "def speech2Text(L):\n",
    "    \n",
    "    transcripts = []\n",
    "    for l in L:\n",
    "        if l == '':\n",
    "            transcripts.append('')\n",
    "        else:\n",
    "            ch = model.transcribe(l, fp16 = False)\n",
    "            transcripts.append(ch['text'][170:])\n",
    "        \n",
    "    return transcripts"
   ]
  },
  {
   "cell_type": "markdown",
   "id": "a1287780-fdf5-4614-bdd6-64fe8393a634",
   "metadata": {},
   "source": [
    "Note: The below chunks take upto 2.5 hours per table to run. (from transcripts_21 to transcripts_18)"
   ]
  },
  {
   "cell_type": "code",
   "execution_count": 161,
   "id": "168d1ee2-f41c-4e7a-9ec7-dfb98f2b43e5",
   "metadata": {},
   "outputs": [],
   "source": [
    "transcripts_21 = speech2Text(audio21)"
   ]
  },
  {
   "cell_type": "code",
   "execution_count": 162,
   "id": "f9a23c94-4e3a-42f2-98fa-1f3670230bfc",
   "metadata": {},
   "outputs": [],
   "source": [
    "transcripts_20 = speech2Text(audio20)"
   ]
  },
  {
   "cell_type": "code",
   "execution_count": 400,
   "id": "f85d7144-fe63-4c3f-aa2f-aa6ae3f8b380",
   "metadata": {},
   "outputs": [],
   "source": [
    "transcripts_19 = speech2Text(audio19)"
   ]
  },
  {
   "cell_type": "code",
   "execution_count": 254,
   "id": "d771597f-6c1c-4f8f-a523-1f6c03c79f78",
   "metadata": {},
   "outputs": [],
   "source": [
    "transcripts_18 = speech2Text(audio18)"
   ]
  },
  {
   "cell_type": "code",
   "execution_count": 139,
   "id": "59d5587e-3518-4d79-af7f-e23944198dfd",
   "metadata": {},
   "outputs": [],
   "source": [
    "df_2022['Transcripts'] = transcripts"
   ]
  },
  {
   "cell_type": "code",
   "execution_count": 184,
   "id": "ecfcd61e-c8d7-4029-91f0-179bece56b6e",
   "metadata": {},
   "outputs": [],
   "source": [
    "df_2021['Transcripts'] = transcripts_21"
   ]
  },
  {
   "cell_type": "code",
   "execution_count": 189,
   "id": "3873e1a3-57d3-4839-b713-c6ed31ac20b4",
   "metadata": {},
   "outputs": [],
   "source": [
    "df_2020['Transcripts'] = transcripts_20"
   ]
  },
  {
   "cell_type": "code",
   "execution_count": 402,
   "id": "07b73458-d0ee-4e74-af55-dba07b7ca920",
   "metadata": {},
   "outputs": [],
   "source": [
    "df_2019['Transcripts'] = transcripts_19"
   ]
  },
  {
   "cell_type": "code",
   "execution_count": 266,
   "id": "7a71ffb3-e06e-4144-af65-3a4b13c4e648",
   "metadata": {},
   "outputs": [],
   "source": [
    "df_2018['Transcripts'] = transcripts_18"
   ]
  },
  {
   "cell_type": "code",
   "execution_count": 441,
   "id": "aef0540a-42c2-46d6-b0df-0c406b4ae0c4",
   "metadata": {},
   "outputs": [],
   "source": [
    "#df_2022.to_csv('../df_2022', index = False, header=True)"
   ]
  },
  {
   "cell_type": "code",
   "execution_count": 442,
   "id": "1f24fc66-fd30-46c6-8fe3-e00429d6edab",
   "metadata": {},
   "outputs": [],
   "source": [
    "#df_2021.to_csv('../df_2021', index = False, header=True)"
   ]
  },
  {
   "cell_type": "code",
   "execution_count": 443,
   "id": "ba5c6a4b-73b1-485b-9bf8-5583f8f909f1",
   "metadata": {},
   "outputs": [],
   "source": [
    "#df_2020.to_csv('../df_2020', index = False, header=True)"
   ]
  },
  {
   "cell_type": "code",
   "execution_count": 444,
   "id": "1cfb4ab1-70b4-4fa4-8b25-e35a73c585e1",
   "metadata": {},
   "outputs": [],
   "source": [
    "#df_2018.to_csv('../df_2018', index = False, header=True)"
   ]
  },
  {
   "cell_type": "code",
   "execution_count": 467,
   "id": "16ae8ef3-f34b-4e5e-a68c-6898015067e7",
   "metadata": {},
   "outputs": [],
   "source": [
    "#df_2019.to_csv('../df_2019', index = False, header=True)"
   ]
  },
  {
   "cell_type": "markdown",
   "id": "565d54c3-555c-4be5-99ea-cfc13753e7da",
   "metadata": {},
   "source": [
    "Step 4. Additional Columns from the LibriVox Catalog Page were added. 'Genre','Language','Runtime','Read_by'"
   ]
  },
  {
   "cell_type": "code",
   "execution_count": 409,
   "id": "2131dc77-e5d7-45c4-aa71-2843a1407256",
   "metadata": {},
   "outputs": [],
   "source": [
    "def getCatalogLinks(L):\n",
    "    catalog_links = []\n",
    "    for link in L:\n",
    "        book = requests.get(link)\n",
    "        book_soup = BeautifulSoup(book.content, 'html.parser')\n",
    "        descript = book_soup.find('div', {'id':'descript'})\n",
    "        book_link = descript.find('a','href' == True, text = re.compile(('LibriVox catalog'),re.IGNORECASE))\n",
    "        # LibriVox catalog page\n",
    "        if book_link.get('href') == '':\n",
    "            catalog_links.append('')\n",
    "        else:\n",
    "            catalog_links.append(book_link.get('href'))\n",
    "    \n",
    "    return catalog_links\n",
    "    "
   ]
  },
  {
   "cell_type": "code",
   "execution_count": 424,
   "id": "a5a35335-f2a5-4d13-8f27-f343a02594a4",
   "metadata": {},
   "outputs": [],
   "source": [
    "def addnlColumns(L):\n",
    "    addnl_columns = []\n",
    "    for c in L:\n",
    "        if c == '':\n",
    "            addnl_columns.append('')\n",
    "        else:\n",
    "            book_req = requests.get(c, verify=False)\n",
    "            catalog_soup = BeautifulSoup(book_req.content,'html.parser')\n",
    "            p = catalog_soup.find_all('p', {'class':'book-page-genre'})  \n",
    "            genre = p[0].text.split(\"Genre(s): \")[1]\n",
    "            language = p[1].text.split(\"Language: \")[1]\n",
    "            det = catalog_soup.find('dl', {'class': 'product-details clearfix'})\n",
    "            details = det.find_all('dd')\n",
    "            runtime = details[0].text\n",
    "            read_by = details[3].text\n",
    "            addnl_columns.append([genre,language,runtime,read_by])\n",
    "    return addnl_columns"
   ]
  },
  {
   "cell_type": "code",
   "execution_count": 425,
   "id": "29baae71-34f3-4d35-be23-854cd39be4e2",
   "metadata": {
    "tags": []
   },
   "outputs": [],
   "source": [
    "addnl_2022 = addnlColumns(getCatalogLinks(links22))"
   ]
  },
  {
   "cell_type": "code",
   "execution_count": 427,
   "id": "ad2058fa-d61a-4922-9f9c-4d6663b25db2",
   "metadata": {},
   "outputs": [],
   "source": [
    "df_2022[['Genre','Language','Runtime','Read_by']] = addnl_2022"
   ]
  },
  {
   "cell_type": "code",
   "execution_count": 429,
   "id": "50976b1b-274c-4376-a9d5-8dd54d730cd1",
   "metadata": {},
   "outputs": [],
   "source": [
    "addnl_2021 = addnlColumns(getCatalogLinks(links21))"
   ]
  },
  {
   "cell_type": "code",
   "execution_count": 433,
   "id": "1b063d86-55a7-4b94-8149-1f465b192f77",
   "metadata": {},
   "outputs": [],
   "source": [
    "df_2021[['Genre','Language','Runtime','Read_by']] = addnl_2021"
   ]
  },
  {
   "cell_type": "code",
   "execution_count": 430,
   "id": "94ad4613-48f6-4a38-8077-22eef2f4cfc1",
   "metadata": {},
   "outputs": [],
   "source": [
    "addnl_2020 = addnlColumns(getCatalogLinks(links20))"
   ]
  },
  {
   "cell_type": "code",
   "execution_count": 434,
   "id": "4aa2fbc7-967f-4845-ba21-62b400b69882",
   "metadata": {},
   "outputs": [],
   "source": [
    "df_2020[['Genre','Language','Runtime','Read_by']] = addnl_2020"
   ]
  },
  {
   "cell_type": "code",
   "execution_count": 431,
   "id": "bcfa0761-6305-4915-a3fb-c5086082c61b",
   "metadata": {},
   "outputs": [],
   "source": [
    "addnl_2019 = addnlColumns(getCatalogLinks(links19))"
   ]
  },
  {
   "cell_type": "code",
   "execution_count": 461,
   "id": "5903bdfb-5f38-4eaf-8a93-ee8d2af1b969",
   "metadata": {
    "tags": []
   },
   "outputs": [],
   "source": [
    "df_addnl_2019 = pd.DataFrame(addnl_2019)"
   ]
  },
  {
   "cell_type": "code",
   "execution_count": 462,
   "id": "296d8b65-2232-43e3-bc30-2eefaf0b8325",
   "metadata": {},
   "outputs": [],
   "source": [
    "df_addnl_2019.columns = ['Genre','Language','Runtime','Read_by']"
   ]
  },
  {
   "cell_type": "code",
   "execution_count": 465,
   "id": "4f652c6e-c535-45b4-bb80-8cb3063b59cc",
   "metadata": {},
   "outputs": [],
   "source": [
    "df_2019 = pd.concat([df_2019,df_addnl_2019], axis = 1)"
   ]
  },
  {
   "cell_type": "code",
   "execution_count": 432,
   "id": "3443e544-f94d-42af-a541-fe9a256ed3db",
   "metadata": {},
   "outputs": [],
   "source": [
    "addnl_2018 = addnlColumns(getCatalogLinks(links18))"
   ]
  },
  {
   "cell_type": "code",
   "execution_count": 440,
   "id": "7d083a0f-a8f6-48b5-8b42-3e1079725cb5",
   "metadata": {},
   "outputs": [],
   "source": [
    "df_2018[['Genre','Language','Runtime','Read_by']] = addnl_2018"
   ]
  },
  {
   "cell_type": "markdown",
   "id": "ac7c3b73-3b13-4ca6-86e3-bd0d7e87518c",
   "metadata": {},
   "source": [
    "Step5. Concatenated all tables from 2018-2022 to get final table."
   ]
  },
  {
   "cell_type": "code",
   "execution_count": 472,
   "id": "39d2092b-1736-4a09-8f67-f751862f4caa",
   "metadata": {},
   "outputs": [],
   "source": [
    "frames = [df_2018, df_2019, df_2020, df_2021, df_2022]"
   ]
  },
  {
   "cell_type": "code",
   "execution_count": 473,
   "id": "33af0c7e-cbb9-4129-81de-1d6d19aa38da",
   "metadata": {},
   "outputs": [],
   "source": [
    "all_books_df = pd.concat(frames)"
   ]
  },
  {
   "cell_type": "code",
   "execution_count": 478,
   "id": "7c37f047-5ef0-4789-8f89-856fb7dddcd8",
   "metadata": {},
   "outputs": [],
   "source": [
    "all_books_df = all_books_df.rename(columns={'Read_by':'Narrated_by'})"
   ]
  },
  {
   "cell_type": "code",
   "execution_count": null,
   "id": "997ea45a-9ef6-4ed5-a938-b98aa9a699e9",
   "metadata": {},
   "outputs": [],
   "source": [
    "all_books_df.to_csv('../librivox_df', index = False, header=True)"
   ]
  },
  {
   "cell_type": "markdown",
   "id": "8c3371cb-035d-42af-8006-8e4ab2b1d178",
   "metadata": {},
   "source": [
    "#### Final Table\n",
    "(Attached with the files as 'librivox_df')"
   ]
  },
  {
   "cell_type": "code",
   "execution_count": 484,
   "id": "f3ba174e-7e76-4044-be92-5983a6446d09",
   "metadata": {},
   "outputs": [
    {
     "data": {
      "text/html": [
       "<div>\n",
       "<style scoped>\n",
       "    .dataframe tbody tr th:only-of-type {\n",
       "        vertical-align: middle;\n",
       "    }\n",
       "\n",
       "    .dataframe tbody tr th {\n",
       "        vertical-align: top;\n",
       "    }\n",
       "\n",
       "    .dataframe thead th {\n",
       "        text-align: right;\n",
       "    }\n",
       "</style>\n",
       "<table border=\"1\" class=\"dataframe\">\n",
       "  <thead>\n",
       "    <tr style=\"text-align: right;\">\n",
       "      <th></th>\n",
       "      <th>ID</th>\n",
       "      <th>Title</th>\n",
       "      <th>Author</th>\n",
       "      <th>Views</th>\n",
       "      <th>Favorites</th>\n",
       "      <th>Date_uploaded</th>\n",
       "      <th>Reviews</th>\n",
       "      <th>Reviews_n</th>\n",
       "      <th>Transcripts</th>\n",
       "      <th>Genre</th>\n",
       "      <th>Language</th>\n",
       "      <th>Runtime</th>\n",
       "      <th>Narrated_by</th>\n",
       "    </tr>\n",
       "  </thead>\n",
       "  <tbody>\n",
       "    <tr>\n",
       "      <th>0</th>\n",
       "      <td>0</td>\n",
       "      <td>Multilingual Short Works Collection 020 - Poet...</td>\n",
       "      <td>Various</td>\n",
       "      <td>594092</td>\n",
       "      <td>2.0</td>\n",
       "      <td>October 16, 2018</td>\n",
       "      <td>[]</td>\n",
       "      <td>0</td>\n",
       "      <td>informoi al porvon tuli on volu visiti librevo...</td>\n",
       "      <td>Poetry, Short Stories</td>\n",
       "      <td>Multilingual</td>\n",
       "      <td>02:52:08</td>\n",
       "      <td>LibriVox Volunteers</td>\n",
       "    </tr>\n",
       "    <tr>\n",
       "      <th>1</th>\n",
       "      <td>1</td>\n",
       "      <td>The Book of Enoch</td>\n",
       "      <td>Unknown</td>\n",
       "      <td>155927</td>\n",
       "      <td>102.0</td>\n",
       "      <td>December 9, 2018</td>\n",
       "      <td>['\\n        I enjoyed this recording very much...</td>\n",
       "      <td>1</td>\n",
       "      <td>r, please visit Librevox.org. Section 1. Edito...</td>\n",
       "      <td>Religion</td>\n",
       "      <td>English</td>\n",
       "      <td>04:28:56</td>\n",
       "      <td>CJ Plogue</td>\n",
       "    </tr>\n",
       "    <tr>\n",
       "      <th>2</th>\n",
       "      <td>2</td>\n",
       "      <td>Aventuras de Arturo Gordon Pym</td>\n",
       "      <td>Edgar Allan Poe</td>\n",
       "      <td>445836</td>\n",
       "      <td>3.0</td>\n",
       "      <td>December 7, 2018</td>\n",
       "      <td>[]</td>\n",
       "      <td>0</td>\n",
       "      <td>ón para ser voluntario por favor visite LibriB...</td>\n",
       "      <td>Gothic Fiction, Nautical &amp; Marine Fiction</td>\n",
       "      <td>Spanish</td>\n",
       "      <td>08:05:35</td>\n",
       "      <td>Mongope</td>\n",
       "    </tr>\n",
       "    <tr>\n",
       "      <th>3</th>\n",
       "      <td>3</td>\n",
       "      <td>The Meditations of the Emperor Marcus Aurelius...</td>\n",
       "      <td>Marcus Aurelius</td>\n",
       "      <td>302755</td>\n",
       "      <td>58.0</td>\n",
       "      <td>January 2, 2018</td>\n",
       "      <td>['\\n        I recently discovered this gem of ...</td>\n",
       "      <td>1</td>\n",
       "      <td>ation or to volunteer, please visit Librevox.o...</td>\n",
       "      <td>Classics (Greek &amp; Latin Antiquity), Biography ...</td>\n",
       "      <td>English</td>\n",
       "      <td>04:47:46</td>\n",
       "      <td>LibriVox Volunteers</td>\n",
       "    </tr>\n",
       "    <tr>\n",
       "      <th>4</th>\n",
       "      <td>4</td>\n",
       "      <td>Three Things</td>\n",
       "      <td>Ella Wheeler Wilcox</td>\n",
       "      <td>516824</td>\n",
       "      <td>7.0</td>\n",
       "      <td>July 1, 2018</td>\n",
       "      <td>[]</td>\n",
       "      <td>0</td>\n",
       "      <td>gs there are, eternal in their worth. Love tha...</td>\n",
       "      <td>Multi-version (Weekly and Fortnightly poetry)</td>\n",
       "      <td>English</td>\n",
       "      <td>00:12:59</td>\n",
       "      <td>LibriVox Volunteers</td>\n",
       "    </tr>\n",
       "    <tr>\n",
       "      <th>...</th>\n",
       "      <td>...</td>\n",
       "      <td>...</td>\n",
       "      <td>...</td>\n",
       "      <td>...</td>\n",
       "      <td>...</td>\n",
       "      <td>...</td>\n",
       "      <td>...</td>\n",
       "      <td>...</td>\n",
       "      <td>...</td>\n",
       "      <td>...</td>\n",
       "      <td>...</td>\n",
       "      <td>...</td>\n",
       "      <td>...</td>\n",
       "    </tr>\n",
       "    <tr>\n",
       "      <th>370</th>\n",
       "      <td>70</td>\n",
       "      <td>Dramatic Reading Scene and Story Collection, V...</td>\n",
       "      <td>Various</td>\n",
       "      <td>56821</td>\n",
       "      <td>2.0</td>\n",
       "      <td>April 30, 2022</td>\n",
       "      <td>[]</td>\n",
       "      <td>0</td>\n",
       "      <td>ng, all Librevox recordings are in the public ...</td>\n",
       "      <td>Dramatic Readings</td>\n",
       "      <td>English</td>\n",
       "      <td>03:17:50</td>\n",
       "      <td>LibriVox Volunteers</td>\n",
       "    </tr>\n",
       "    <tr>\n",
       "      <th>371</th>\n",
       "      <td>71</td>\n",
       "      <td>Las guerras ibéricas</td>\n",
       "      <td>Appian of Alexandria</td>\n",
       "      <td>64320</td>\n",
       "      <td>2.0</td>\n",
       "      <td>May 14, 2022</td>\n",
       "      <td>[]</td>\n",
       "      <td>0</td>\n",
       "      <td>oluntario, por favor piscite libribox.org. Las...</td>\n",
       "      <td>War &amp; Military, Antiquity</td>\n",
       "      <td>Spanish</td>\n",
       "      <td>02:41:49</td>\n",
       "      <td>Epachuko</td>\n",
       "    </tr>\n",
       "    <tr>\n",
       "      <th>372</th>\n",
       "      <td>72</td>\n",
       "      <td>The Mormon Battalion, Its History and Achievem...</td>\n",
       "      <td>B. H. Roberts</td>\n",
       "      <td>29381</td>\n",
       "      <td>1.0</td>\n",
       "      <td>November 4, 2022</td>\n",
       "      <td>['\\n        If you are someone who is really f...</td>\n",
       "      <td>1</td>\n",
       "      <td>to volunteer, please visit Libravox.org. Read ...</td>\n",
       "      <td>War &amp; Military, History</td>\n",
       "      <td>English</td>\n",
       "      <td>02:51:09</td>\n",
       "      <td>Wayne Cooke</td>\n",
       "    </tr>\n",
       "    <tr>\n",
       "      <th>373</th>\n",
       "      <td>73</td>\n",
       "      <td>Dogs and Puppies</td>\n",
       "      <td>Frances Trego Montgomery</td>\n",
       "      <td>32539</td>\n",
       "      <td>2.0</td>\n",
       "      <td>November 10, 2022</td>\n",
       "      <td>[]</td>\n",
       "      <td>0</td>\n",
       "      <td>riVox.org. Read by Prajakta. Docs and Puppets ...</td>\n",
       "      <td>Action &amp; Adventure</td>\n",
       "      <td>English</td>\n",
       "      <td>00:51:56</td>\n",
       "      <td>LibriVox Volunteers</td>\n",
       "    </tr>\n",
       "    <tr>\n",
       "      <th>374</th>\n",
       "      <td>74</td>\n",
       "      <td>Short Ghost and Horror Collection 061</td>\n",
       "      <td>Various</td>\n",
       "      <td>51160</td>\n",
       "      <td>2.0</td>\n",
       "      <td>August 6, 2022</td>\n",
       "      <td>[]</td>\n",
       "      <td>0</td>\n",
       "      <td>sit LibraVox.org. Read by Dale Growthman. Mary...</td>\n",
       "      <td>Horror &amp; Supernatural Fiction</td>\n",
       "      <td>English</td>\n",
       "      <td>08:05:07</td>\n",
       "      <td>LibriVox Volunteers</td>\n",
       "    </tr>\n",
       "  </tbody>\n",
       "</table>\n",
       "<p>375 rows × 13 columns</p>\n",
       "</div>"
      ],
      "text/plain": [
       "     ID                                              Title  \\\n",
       "0     0  Multilingual Short Works Collection 020 - Poet...   \n",
       "1     1                                  The Book of Enoch   \n",
       "2     2                     Aventuras de Arturo Gordon Pym   \n",
       "3     3  The Meditations of the Emperor Marcus Aurelius...   \n",
       "4     4                                       Three Things   \n",
       "..   ..                                                ...   \n",
       "370  70  Dramatic Reading Scene and Story Collection, V...   \n",
       "371  71                               Las guerras ibéricas   \n",
       "372  72  The Mormon Battalion, Its History and Achievem...   \n",
       "373  73                                   Dogs and Puppies   \n",
       "374  74              Short Ghost and Horror Collection 061   \n",
       "\n",
       "                       Author   Views  Favorites      Date_uploaded  \\\n",
       "0                     Various  594092        2.0   October 16, 2018   \n",
       "1                     Unknown  155927      102.0   December 9, 2018   \n",
       "2             Edgar Allan Poe  445836        3.0   December 7, 2018   \n",
       "3             Marcus Aurelius  302755       58.0    January 2, 2018   \n",
       "4         Ella Wheeler Wilcox  516824        7.0       July 1, 2018   \n",
       "..                        ...     ...        ...                ...   \n",
       "370                   Various   56821        2.0     April 30, 2022   \n",
       "371      Appian of Alexandria   64320        2.0       May 14, 2022   \n",
       "372             B. H. Roberts   29381        1.0   November 4, 2022   \n",
       "373  Frances Trego Montgomery   32539        2.0  November 10, 2022   \n",
       "374                   Various   51160        2.0     August 6, 2022   \n",
       "\n",
       "                                               Reviews  Reviews_n  \\\n",
       "0                                                   []          0   \n",
       "1    ['\\n        I enjoyed this recording very much...          1   \n",
       "2                                                   []          0   \n",
       "3    ['\\n        I recently discovered this gem of ...          1   \n",
       "4                                                   []          0   \n",
       "..                                                 ...        ...   \n",
       "370                                                 []          0   \n",
       "371                                                 []          0   \n",
       "372  ['\\n        If you are someone who is really f...          1   \n",
       "373                                                 []          0   \n",
       "374                                                 []          0   \n",
       "\n",
       "                                           Transcripts  \\\n",
       "0    informoi al porvon tuli on volu visiti librevo...   \n",
       "1    r, please visit Librevox.org. Section 1. Edito...   \n",
       "2    ón para ser voluntario por favor visite LibriB...   \n",
       "3    ation or to volunteer, please visit Librevox.o...   \n",
       "4    gs there are, eternal in their worth. Love tha...   \n",
       "..                                                 ...   \n",
       "370  ng, all Librevox recordings are in the public ...   \n",
       "371  oluntario, por favor piscite libribox.org. Las...   \n",
       "372  to volunteer, please visit Libravox.org. Read ...   \n",
       "373  riVox.org. Read by Prajakta. Docs and Puppets ...   \n",
       "374  sit LibraVox.org. Read by Dale Growthman. Mary...   \n",
       "\n",
       "                                                 Genre      Language  \\\n",
       "0                                Poetry, Short Stories  Multilingual   \n",
       "1                                             Religion       English   \n",
       "2            Gothic Fiction, Nautical & Marine Fiction       Spanish   \n",
       "3    Classics (Greek & Latin Antiquity), Biography ...       English   \n",
       "4        Multi-version (Weekly and Fortnightly poetry)       English   \n",
       "..                                                 ...           ...   \n",
       "370                                  Dramatic Readings       English   \n",
       "371                          War & Military, Antiquity       Spanish   \n",
       "372                            War & Military, History       English   \n",
       "373                                 Action & Adventure       English   \n",
       "374                      Horror & Supernatural Fiction       English   \n",
       "\n",
       "      Runtime          Narrated_by  \n",
       "0    02:52:08  LibriVox Volunteers  \n",
       "1    04:28:56            CJ Plogue  \n",
       "2    08:05:35              Mongope  \n",
       "3    04:47:46  LibriVox Volunteers  \n",
       "4    00:12:59  LibriVox Volunteers  \n",
       "..        ...                  ...  \n",
       "370  03:17:50  LibriVox Volunteers  \n",
       "371  02:41:49             Epachuko  \n",
       "372  02:51:09          Wayne Cooke  \n",
       "373  00:51:56  LibriVox Volunteers  \n",
       "374  08:05:07  LibriVox Volunteers  \n",
       "\n",
       "[375 rows x 13 columns]"
      ]
     },
     "execution_count": 484,
     "metadata": {},
     "output_type": "execute_result"
    }
   ],
   "source": [
    "pd.read_csv('../librivox_df')"
   ]
  },
  {
   "cell_type": "code",
   "execution_count": null,
   "id": "72e846da-9c2f-4ff8-869a-823722c40396",
   "metadata": {},
   "outputs": [],
   "source": []
  }
 ],
 "metadata": {
  "kernelspec": {
   "display_name": "Python 3 (ipykernel)",
   "language": "python",
   "name": "python3"
  },
  "language_info": {
   "codemirror_mode": {
    "name": "ipython",
    "version": 3
   },
   "file_extension": ".py",
   "mimetype": "text/x-python",
   "name": "python",
   "nbconvert_exporter": "python",
   "pygments_lexer": "ipython3",
   "version": "3.9.12"
  }
 },
 "nbformat": 4,
 "nbformat_minor": 5
}
